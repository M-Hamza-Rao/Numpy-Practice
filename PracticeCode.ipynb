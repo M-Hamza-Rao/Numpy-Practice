{
 "cells": [
  {
   "cell_type": "code",
   "execution_count": 2,
   "id": "beba74e5",
   "metadata": {},
   "outputs": [],
   "source": [
    "#Creating Array"
   ]
  },
  {
   "cell_type": "code",
   "execution_count": 3,
   "id": "425cc6bb",
   "metadata": {},
   "outputs": [
    {
     "data": {
      "text/plain": [
       "array([1, 2, 3, 4])"
      ]
     },
     "execution_count": 3,
     "metadata": {},
     "output_type": "execute_result"
    }
   ],
   "source": [
    "import numpy as np\n",
    "\n",
    "x = [1,2,3,4]\n",
    "y=np.array(x)\n",
    "y"
   ]
  },
  {
   "cell_type": "code",
   "execution_count": 6,
   "id": "df59cccd",
   "metadata": {},
   "outputs": [],
   "source": [
    "#MultiDimensional Arrays"
   ]
  },
  {
   "cell_type": "code",
   "execution_count": 4,
   "id": "013230ce",
   "metadata": {},
   "outputs": [
    {
     "name": "stdout",
     "output_type": "stream",
     "text": [
      "2\n"
     ]
    },
    {
     "data": {
      "text/plain": [
       "array([[1, 2, 3],\n",
       "       [4, 5, 6],\n",
       "       [7, 8, 9]])"
      ]
     },
     "execution_count": 4,
     "metadata": {},
     "output_type": "execute_result"
    }
   ],
   "source": [
    "y = np.array([[1,2,3],[4,5,6],[7,8,9]])\n",
    "print(y.ndim)\n",
    "y"
   ]
  },
  {
   "cell_type": "code",
   "execution_count": 5,
   "id": "caab7ef0",
   "metadata": {},
   "outputs": [
    {
     "name": "stdout",
     "output_type": "stream",
     "text": [
      "6\n"
     ]
    },
    {
     "data": {
      "text/plain": [
       "array([[[[[[1, 2, 3]]]]]])"
      ]
     },
     "execution_count": 5,
     "metadata": {},
     "output_type": "execute_result"
    }
   ],
   "source": [
    "y = np.array([1,2,3],ndmin=6)\n",
    "print(y.ndim)\n",
    "y"
   ]
  },
  {
   "cell_type": "code",
   "execution_count": 1,
   "id": "eafa8e4e",
   "metadata": {},
   "outputs": [],
   "source": [
    "# Specific Types of Arrays"
   ]
  },
  {
   "cell_type": "code",
   "execution_count": 9,
   "id": "0efb40bb",
   "metadata": {},
   "outputs": [
    {
     "name": "stdout",
     "output_type": "stream",
     "text": [
      "[0. 0. 0. 0.]\n",
      "[[0. 0. 0.]\n",
      " [0. 0. 0.]\n",
      " [0. 0. 0.]\n",
      " [0. 0. 0.]]\n"
     ]
    }
   ],
   "source": [
    "#Zeros array\n",
    "arr_zeros = np.zeros(4)\n",
    "arr_zeros_4x3 = np.zeros((4,3))\n",
    "print(arr_zeros)\n",
    "print(arr_zeros_4x3)"
   ]
  },
  {
   "cell_type": "markdown",
   "id": "8fd27ad4",
   "metadata": {},
   "source": []
  },
  {
   "cell_type": "code",
   "execution_count": 10,
   "id": "806a7f58",
   "metadata": {},
   "outputs": [
    {
     "name": "stdout",
     "output_type": "stream",
     "text": [
      "[1. 1. 1. 1.]\n",
      "[[1. 1. 1.]\n",
      " [1. 1. 1.]\n",
      " [1. 1. 1.]\n",
      " [1. 1. 1.]]\n"
     ]
    }
   ],
   "source": [
    "#Ones array\n",
    "arr_ones = np.ones(4)\n",
    "arr_ones_4x3 = np.ones((4,3))\n",
    "print(arr_ones)\n",
    "print(arr_ones_4x3)"
   ]
  },
  {
   "cell_type": "code",
   "execution_count": 11,
   "id": "7ecb9b91",
   "metadata": {},
   "outputs": [
    {
     "name": "stdout",
     "output_type": "stream",
     "text": [
      "[1. 1. 1. 1.]\n",
      "[[1. 1. 1.]\n",
      " [1. 1. 1.]\n",
      " [1. 1. 1.]\n",
      " [1. 1. 1.]]\n"
     ]
    }
   ],
   "source": [
    "#Empty array\n",
    "arr_empty = np.empty(4)\n",
    "arr_empty_4x3 = np.empty((4,3))\n",
    "print(arr_empty)\n",
    "print(arr_empty_4x3)"
   ]
  },
  {
   "cell_type": "code",
   "execution_count": 13,
   "id": "27a04ee1",
   "metadata": {},
   "outputs": [
    {
     "name": "stdout",
     "output_type": "stream",
     "text": [
      "[0 1 2 3]\n"
     ]
    }
   ],
   "source": [
    "#Range array\n",
    "arr_rn = np.arange(4)\n",
    "print(arr_rn)"
   ]
  },
  {
   "cell_type": "code",
   "execution_count": 14,
   "id": "c760632c",
   "metadata": {},
   "outputs": [
    {
     "name": "stdout",
     "output_type": "stream",
     "text": [
      "[[1. 0. 0. 0.]\n",
      " [0. 1. 0. 0.]\n",
      " [0. 0. 1. 0.]\n",
      " [0. 0. 0. 1.]]\n"
     ]
    }
   ],
   "source": [
    "#Diagonal array\n",
    "arr_dg = np.eye(4)\n",
    "print(arr_dg)"
   ]
  },
  {
   "cell_type": "code",
   "execution_count": 18,
   "id": "4aecee5d",
   "metadata": {},
   "outputs": [
    {
     "name": "stdout",
     "output_type": "stream",
     "text": [
      "[ 0.  5. 10. 15. 20.]\n"
     ]
    }
   ],
   "source": [
    "#Linespace array\n",
    "arr_ln = np.linspace(0,20, num=5)\n",
    "print(arr_ln)"
   ]
  },
  {
   "cell_type": "code",
   "execution_count": null,
   "id": "c2d8ca99",
   "metadata": {},
   "outputs": [],
   "source": []
  }
 ],
 "metadata": {
  "kernelspec": {
   "display_name": "Python 3 (ipykernel)",
   "language": "python",
   "name": "python3"
  },
  "language_info": {
   "codemirror_mode": {
    "name": "ipython",
    "version": 3
   },
   "file_extension": ".py",
   "mimetype": "text/x-python",
   "name": "python",
   "nbconvert_exporter": "python",
   "pygments_lexer": "ipython3",
   "version": "3.7.0"
  }
 },
 "nbformat": 4,
 "nbformat_minor": 5
}
