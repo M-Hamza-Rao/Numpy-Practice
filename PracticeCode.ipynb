{
 "cells": [
  {
   "cell_type": "code",
   "execution_count": 1,
   "id": "beba74e5",
   "metadata": {},
   "outputs": [],
   "source": [
    "#Creating Array"
   ]
  },
  {
   "cell_type": "code",
   "execution_count": 2,
   "id": "425cc6bb",
   "metadata": {},
   "outputs": [
    {
     "data": {
      "text/plain": [
       "array([1, 2, 3, 4])"
      ]
     },
     "execution_count": 2,
     "metadata": {},
     "output_type": "execute_result"
    }
   ],
   "source": [
    "import numpy as np\n",
    "\n",
    "x = [1,2,3,4]\n",
    "y=np.array(x)\n",
    "y"
   ]
  },
  {
   "cell_type": "code",
   "execution_count": 3,
   "id": "df59cccd",
   "metadata": {},
   "outputs": [],
   "source": [
    "#MultiDimensional Arrays"
   ]
  },
  {
   "cell_type": "code",
   "execution_count": 4,
   "id": "013230ce",
   "metadata": {},
   "outputs": [
    {
     "name": "stdout",
     "output_type": "stream",
     "text": [
      "2\n"
     ]
    },
    {
     "data": {
      "text/plain": [
       "array([[1, 2, 3],\n",
       "       [4, 5, 6],\n",
       "       [7, 8, 9]])"
      ]
     },
     "execution_count": 4,
     "metadata": {},
     "output_type": "execute_result"
    }
   ],
   "source": [
    "y = np.array([[1,2,3],[4,5,6],[7,8,9]])\n",
    "print(y.ndim)\n",
    "y"
   ]
  },
  {
   "cell_type": "code",
   "execution_count": 5,
   "id": "caab7ef0",
   "metadata": {},
   "outputs": [
    {
     "name": "stdout",
     "output_type": "stream",
     "text": [
      "6\n"
     ]
    },
    {
     "data": {
      "text/plain": [
       "array([[[[[[1, 2, 3]]]]]])"
      ]
     },
     "execution_count": 5,
     "metadata": {},
     "output_type": "execute_result"
    }
   ],
   "source": [
    "y = np.array([1,2,3],ndmin=6)\n",
    "print(y.ndim)\n",
    "y"
   ]
  },
  {
   "cell_type": "code",
   "execution_count": 1,
   "id": "eafa8e4e",
   "metadata": {},
   "outputs": [],
   "source": [
    "# Specific Types of Arrays"
   ]
  },
  {
   "cell_type": "code",
   "execution_count": 9,
   "id": "0efb40bb",
   "metadata": {},
   "outputs": [
    {
     "name": "stdout",
     "output_type": "stream",
     "text": [
      "[0. 0. 0. 0.]\n",
      "[[0. 0. 0.]\n",
      " [0. 0. 0.]\n",
      " [0. 0. 0.]\n",
      " [0. 0. 0.]]\n"
     ]
    }
   ],
   "source": [
    "#Zeros array\n",
    "arr_zeros = np.zeros(4)\n",
    "arr_zeros_4x3 = np.zeros((4,3))\n",
    "print(arr_zeros)\n",
    "print(arr_zeros_4x3)"
   ]
  },
  {
   "cell_type": "markdown",
   "id": "8fd27ad4",
   "metadata": {},
   "source": []
  },
  {
   "cell_type": "code",
   "execution_count": 10,
   "id": "806a7f58",
   "metadata": {},
   "outputs": [
    {
     "name": "stdout",
     "output_type": "stream",
     "text": [
      "[1. 1. 1. 1.]\n",
      "[[1. 1. 1.]\n",
      " [1. 1. 1.]\n",
      " [1. 1. 1.]\n",
      " [1. 1. 1.]]\n"
     ]
    }
   ],
   "source": [
    "#Ones array\n",
    "arr_ones = np.ones(4)\n",
    "arr_ones_4x3 = np.ones((4,3))\n",
    "print(arr_ones)\n",
    "print(arr_ones_4x3)"
   ]
  },
  {
   "cell_type": "code",
   "execution_count": 11,
   "id": "7ecb9b91",
   "metadata": {},
   "outputs": [
    {
     "name": "stdout",
     "output_type": "stream",
     "text": [
      "[1. 1. 1. 1.]\n",
      "[[1. 1. 1.]\n",
      " [1. 1. 1.]\n",
      " [1. 1. 1.]\n",
      " [1. 1. 1.]]\n"
     ]
    }
   ],
   "source": [
    "#Empty array\n",
    "arr_empty = np.empty(4)\n",
    "arr_empty_4x3 = np.empty((4,3))\n",
    "print(arr_empty)\n",
    "print(arr_empty_4x3)"
   ]
  },
  {
   "cell_type": "code",
   "execution_count": 13,
   "id": "27a04ee1",
   "metadata": {},
   "outputs": [
    {
     "name": "stdout",
     "output_type": "stream",
     "text": [
      "[0 1 2 3]\n"
     ]
    }
   ],
   "source": [
    "#Range array\n",
    "arr_rn = np.arange(4)\n",
    "print(arr_rn)"
   ]
  },
  {
   "cell_type": "code",
   "execution_count": 14,
   "id": "c760632c",
   "metadata": {},
   "outputs": [
    {
     "name": "stdout",
     "output_type": "stream",
     "text": [
      "[[1. 0. 0. 0.]\n",
      " [0. 1. 0. 0.]\n",
      " [0. 0. 1. 0.]\n",
      " [0. 0. 0. 1.]]\n"
     ]
    }
   ],
   "source": [
    "#Diagonal array\n",
    "arr_dg = np.eye(4)\n",
    "print(arr_dg)"
   ]
  },
  {
   "cell_type": "code",
   "execution_count": 18,
   "id": "4aecee5d",
   "metadata": {},
   "outputs": [
    {
     "name": "stdout",
     "output_type": "stream",
     "text": [
      "[ 0.  5. 10. 15. 20.]\n"
     ]
    }
   ],
   "source": [
    "#Linespace array\n",
    "arr_ln = np.linspace(0,20, num=5)\n",
    "print(arr_ln)"
   ]
  },
  {
   "cell_type": "code",
   "execution_count": 19,
   "id": "c2d8ca99",
   "metadata": {},
   "outputs": [],
   "source": [
    "#Array of Random Number"
   ]
  },
  {
   "cell_type": "code",
   "execution_count": 21,
   "id": "86b104d9",
   "metadata": {},
   "outputs": [
    {
     "name": "stdout",
     "output_type": "stream",
     "text": [
      "[0.27555106 0.21235206 0.03530096 0.61824614]\n",
      "[[0.08158975 0.79754584 0.04414001 0.44315378 0.8516251 ]\n",
      " [0.42906262 0.37502557 0.52982046 0.44456275 0.45703067]]\n"
     ]
    }
   ],
   "source": [
    "arr_rand = np.random.rand(4)\n",
    "arr_rand_multi_d = np.random.rand(2,5)\n",
    "print(arr_rand)\n",
    "print(arr_rand_multi_d)"
   ]
  },
  {
   "cell_type": "code",
   "execution_count": 22,
   "id": "924ef377",
   "metadata": {},
   "outputs": [
    {
     "name": "stdout",
     "output_type": "stream",
     "text": [
      "[ 0.39451308  0.33214465 -1.99837155  0.1588634 ]\n"
     ]
    }
   ],
   "source": [
    "#Array of Random Number with Randn\n",
    "arr_randn = np.random.randn(4)\n",
    "print(arr_randn)"
   ]
  },
  {
   "cell_type": "code",
   "execution_count": 25,
   "id": "bc6d17ce",
   "metadata": {},
   "outputs": [
    {
     "name": "stdout",
     "output_type": "stream",
     "text": [
      "[0.42023449 0.15364741 0.03488176 0.20173395]\n"
     ]
    }
   ],
   "source": [
    "#Array of Random Number with Ranf\n",
    "arr_ranf = np.random.ranf(4)\n",
    "print(arr_ranf)"
   ]
  },
  {
   "cell_type": "code",
   "execution_count": 28,
   "id": "a299758d",
   "metadata": {},
   "outputs": [
    {
     "name": "stdout",
     "output_type": "stream",
     "text": [
      "[14 17  5 19  6]\n"
     ]
    }
   ],
   "source": [
    "#Array of Random Number with Randint\n",
    "#np.random.randint(min,max,n)\n",
    "arr_randi = np.random.randint(5,20,5)\n",
    "print(arr_randi)"
   ]
  },
  {
   "cell_type": "code",
   "execution_count": 29,
   "id": "8ca6ab57",
   "metadata": {},
   "outputs": [],
   "source": [
    "#WORKING WITH DATA TYPES IN NUMPY"
   ]
  },
  {
   "cell_type": "code",
   "execution_count": 30,
   "id": "e0b17c94",
   "metadata": {},
   "outputs": [
    {
     "name": "stdout",
     "output_type": "stream",
     "text": [
      "Data Type: int32\n"
     ]
    }
   ],
   "source": [
    "#Integer\n",
    "var = np.array([1,2,4,8,16,32])\n",
    "print(\"Data Type:\",var.dtype)"
   ]
  },
  {
   "cell_type": "code",
   "execution_count": 33,
   "id": "63aeff29",
   "metadata": {},
   "outputs": [
    {
     "name": "stdout",
     "output_type": "stream",
     "text": [
      "Data Type: float64\n"
     ]
    }
   ],
   "source": [
    "#Float\n",
    "var2 = np.array([1.0,2.0,4.0,8.0,16.0,32.0])\n",
    "print(\"Data Type:\",var2.dtype)"
   ]
  },
  {
   "cell_type": "code",
   "execution_count": 37,
   "id": "38b25e12",
   "metadata": {},
   "outputs": [
    {
     "name": "stdout",
     "output_type": "stream",
     "text": [
      "Data Type: <U1\n",
      "Data Type: <U32\n"
     ]
    }
   ],
   "source": [
    "#String and mixed\n",
    "var3 = np.array([\"a\",\"b\",\"c\",\"d\"])\n",
    "var4 = np.array([\"a\",\"b\",\"c\",\"d\",16,32.0])\n",
    "print(\"Data Type:\",var3.dtype)\n",
    "print(\"Data Type:\",var4.dtype)"
   ]
  },
  {
   "cell_type": "code",
   "execution_count": 46,
   "id": "56c91146",
   "metadata": {},
   "outputs": [
    {
     "name": "stdout",
     "output_type": "stream",
     "text": [
      "Data Type: int8\n",
      "[ 100  -56 -112   32  -24]\n"
     ]
    }
   ],
   "source": [
    "#INT 32 ti INT 8\n",
    "var5 = np.array([100,200,400,800,1000], dtype= np.int8)\n",
    "print(\"Data Type:\",var2.dtype)\n",
    "print(var5)"
   ]
  },
  {
   "cell_type": "code",
   "execution_count": 45,
   "id": "c4575c6f",
   "metadata": {},
   "outputs": [
    {
     "name": "stdout",
     "output_type": "stream",
     "text": [
      "Data Type: int8\n",
      "[ 100.  200.  400.  800. 1000.]\n"
     ]
    }
   ],
   "source": [
    "#INT 32 ti FLOAT\n",
    "var6 = np.array([100,200,400,800,1000], dtype= \"float\")\n",
    "print(\"Data Type:\",var2.dtype)\n",
    "print(var6)"
   ]
  },
  {
   "cell_type": "code",
   "execution_count": 48,
   "id": "9e052b72",
   "metadata": {},
   "outputs": [
    {
     "name": "stdout",
     "output_type": "stream",
     "text": [
      "Data Type: float64 [ 100.  200.  400.  800. 1000.]\n",
      "Data Type: float32 [ 100.  200.  400.  800. 1000.]\n",
      "Data Type: int32 [ 100  200  400  800 1000]\n"
     ]
    }
   ],
   "source": [
    "var7 = np.array([100,200,400,800,1000], dtype= \"float\")\n",
    "new = np.float32(var7)\n",
    "anew = np.int_(new)\n",
    "print(\"Data Type:\",var7.dtype,var7)\n",
    "print(\"Data Type:\",new.dtype,new)\n",
    "print(\"Data Type:\",anew.dtype,anew)"
   ]
  },
  {
   "cell_type": "code",
   "execution_count": 51,
   "id": "43bdfc74",
   "metadata": {},
   "outputs": [
    {
     "name": "stdout",
     "output_type": "stream",
     "text": [
      "Data Type: float64 [ 100.  200.  400.  800. 1000.]\n",
      "Data Type: float64 [ 100  200  400  800 1000]\n"
     ]
    }
   ],
   "source": [
    "var8 = np.array([100,200,400,800,1000], dtype= \"float\")\n",
    "bnew = var8.astype(int)\n",
    "\n",
    "print(\"Data Type:\",var8.dtype,var8)\n",
    "print(\"Data Type:\",var8.dtype,bnew)"
   ]
  },
  {
   "cell_type": "code",
   "execution_count": 52,
   "id": "91555f18",
   "metadata": {},
   "outputs": [],
   "source": [
    "#Arthemic Operations in Numpy"
   ]
  },
  {
   "cell_type": "code",
   "execution_count": 57,
   "id": "52ec95dd",
   "metadata": {},
   "outputs": [
    {
     "name": "stdout",
     "output_type": "stream",
     "text": [
      "[ 4  6  8 10 18]\n",
      "[ 0  2  4  6 14]\n",
      "[ 4  8 12 16 32]\n",
      "[1. 2. 3. 4. 8.]\n",
      "[ 3  7 11 15 25]\n"
     ]
    }
   ],
   "source": [
    "avar = np.array([2,4,6,8,16])\n",
    "print(avar+2)\n",
    "print(avar-2)\n",
    "print(avar*2)\n",
    "print(avar/2)"
   ]
  },
  {
   "cell_type": "code",
   "execution_count": 58,
   "id": "79a471d4",
   "metadata": {},
   "outputs": [
    {
     "name": "stdout",
     "output_type": "stream",
     "text": [
      "[ 3  7 11 15 25]\n"
     ]
    }
   ],
   "source": [
    "avar2 = np.array([1,3,5,7,9])\n",
    "avar3 = avar + avar2\n",
    "print(avar3)"
   ]
  },
  {
   "cell_type": "code",
   "execution_count": 59,
   "id": "2de6696e",
   "metadata": {},
   "outputs": [
    {
     "name": "stdout",
     "output_type": "stream",
     "text": [
      "11/10/2024\n"
     ]
    }
   ],
   "source": [
    "print(\"11/10/2024\")"
   ]
  },
  {
   "cell_type": "code",
   "execution_count": 60,
   "id": "92051d9e",
   "metadata": {},
   "outputs": [],
   "source": [
    "#Array Operations"
   ]
  },
  {
   "cell_type": "code",
   "execution_count": 61,
   "id": "1a668d3e",
   "metadata": {},
   "outputs": [],
   "source": [
    "ar = np.array([[1,2,3],\n",
    "              [4,5,6],\n",
    "              [7,8,9]])"
   ]
  },
  {
   "cell_type": "code",
   "execution_count": 63,
   "id": "ac6206b4",
   "metadata": {},
   "outputs": [
    {
     "data": {
      "text/plain": [
       "array([[1, 4, 7],\n",
       "       [2, 5, 8],\n",
       "       [3, 6, 9]])"
      ]
     },
     "execution_count": 63,
     "metadata": {},
     "output_type": "execute_result"
    }
   ],
   "source": [
    "#Transpose\n",
    "ar.T"
   ]
  },
  {
   "cell_type": "code",
   "execution_count": 66,
   "id": "a09a24d1",
   "metadata": {},
   "outputs": [
    {
     "name": "stdout",
     "output_type": "stream",
     "text": [
      "1\n",
      "2\n",
      "3\n",
      "4\n",
      "5\n",
      "6\n",
      "7\n",
      "8\n",
      "9\n"
     ]
    }
   ],
   "source": [
    "#flat\n",
    "for item in ar.flat:\n",
    "    print(item)"
   ]
  },
  {
   "cell_type": "code",
   "execution_count": 70,
   "id": "86f1af23",
   "metadata": {
    "scrolled": true
   },
   "outputs": [
    {
     "name": "stdout",
     "output_type": "stream",
     "text": [
      "2\n",
      "1\n",
      "[1 0 3 2]\n"
     ]
    }
   ],
   "source": [
    "#1D max, min, sort with arg\n",
    "oneD_arr = np.array([12,4,655,23])\n",
    "print(oneD_arr.argmax())\n",
    "print(oneD_arr.argmin())\n",
    "print(oneD_arr.argsort())"
   ]
  },
  {
   "cell_type": "code",
   "execution_count": 71,
   "id": "4015fbb9",
   "metadata": {},
   "outputs": [
    {
     "name": "stdout",
     "output_type": "stream",
     "text": [
      "8\n",
      "0\n",
      "[[0 1 2]\n",
      " [0 1 2]\n",
      " [0 1 2]]\n"
     ]
    }
   ],
   "source": [
    "#2D max, min, sort with arg\n",
    "print(ar.argmax())\n",
    "print(ar.argmin())\n",
    "print(ar.argsort())"
   ]
  },
  {
   "cell_type": "code",
   "execution_count": 74,
   "id": "0ea6df89",
   "metadata": {},
   "outputs": [
    {
     "name": "stdout",
     "output_type": "stream",
     "text": [
      "[2 2 2]\n",
      "[0 0 0]\n",
      "[[0 0 0]\n",
      " [1 1 1]\n",
      " [2 2 2]]\n"
     ]
    }
   ],
   "source": [
    "#2D max, min, sort with arg with axes\n",
    "print(ar.argmax(axis=0))\n",
    "print(ar.argmin(axis=0))\n",
    "print(ar.argsort(axis=0))"
   ]
  },
  {
   "cell_type": "code",
   "execution_count": 86,
   "id": "32cfec0f",
   "metadata": {},
   "outputs": [
    {
     "data": {
      "text/plain": [
       "array([1, 2, 3, 4, 5, 6, 7, 8, 9])"
      ]
     },
     "execution_count": 86,
     "metadata": {},
     "output_type": "execute_result"
    }
   ],
   "source": [
    "#reshape\n",
    "ar.reshape((9,))"
   ]
  },
  {
   "cell_type": "code",
   "execution_count": 95,
   "id": "46441c30",
   "metadata": {},
   "outputs": [
    {
     "name": "stdout",
     "output_type": "stream",
     "text": [
      "[[1 2 3]\n",
      " [4 5 6]\n",
      " [7 8 9]]\n",
      "9\n",
      "1\n",
      "(array([1, 2, 2, 2], dtype=int64), array([2, 0, 1, 2], dtype=int64))\n",
      "9\n",
      "(array([0, 0, 0, 1, 1, 1, 2, 2, 2], dtype=int64), array([0, 1, 2, 0, 1, 2, 0, 1, 2], dtype=int64))\n"
     ]
    }
   ],
   "source": [
    "#Search, max, min\n",
    "print(ar)\n",
    "print(ar.max())\n",
    "print(ar.min())\n",
    "print(np.where(ar>5))\n",
    "print(np.count_nonzero(ar))\n",
    "print(np.nonzero(ar))"
   ]
  },
  {
   "cell_type": "code",
   "execution_count": 98,
   "id": "d1bfc89d",
   "metadata": {},
   "outputs": [
    {
     "name": "stdout",
     "output_type": "stream",
     "text": [
      "[[1, 2, 3], [4, 5, 6], [7, 8, 9]]\n"
     ]
    }
   ],
   "source": [
    "#To list\n",
    "print(ar.tolist())"
   ]
  },
  {
   "cell_type": "code",
   "execution_count": 101,
   "id": "bcde9400",
   "metadata": {},
   "outputs": [
    {
     "name": "stdout",
     "output_type": "stream",
     "text": [
      "[[1 2]\n",
      " [4 5]]\n"
     ]
    }
   ],
   "source": [
    "#Slicing\n",
    "print(ar[0:2,0:2])"
   ]
  },
  {
   "cell_type": "code",
   "execution_count": 8,
   "id": "8a016b3c",
   "metadata": {},
   "outputs": [],
   "source": [
    "#Loading CSV as an Array\n",
    "#Loading\n",
    "\n",
    "data = np.genfromtxt(\n",
    "    'data.csv',           \n",
    "    delimiter=\",\",                \n",
    "    dtype=None,                   \n",
    "    encoding='utf-8',             \n",
    "    names=None,                   \n",
    "    missing_values='',            \n",
    "    filling_values=np.nan,   \n",
    "    invalid_raise = False #To ignore rows with inconsistant column count\n",
    ")"
   ]
  },
  {
   "cell_type": "code",
   "execution_count": 9,
   "id": "e62ce01c",
   "metadata": {},
   "outputs": [
    {
     "name": "stdout",
     "output_type": "stream",
     "text": [
      "[['Head1' 'Head2' 'Head3' 'Head4' 'Head5']\n",
      " ['22' 'ab' '5t' '1100' 'adf']\n",
      " ['32' 'ac' '6y' '2122' 'dsgf']\n",
      " ['44' 'af' '5q' '2344' 'dsaf']\n",
      " ['12' 'lk' '6k' '4343' 'knkk']]\n",
      "(6, 5)\n"
     ]
    }
   ],
   "source": [
    "print(data[:5])  # Header Display\n",
    "print(data.shape)"
   ]
  },
  {
   "cell_type": "code",
   "execution_count": null,
   "id": "46f8634e",
   "metadata": {},
   "outputs": [],
   "source": []
  }
 ],
 "metadata": {
  "kernelspec": {
   "display_name": "Python 3 (ipykernel)",
   "language": "python",
   "name": "python3"
  },
  "language_info": {
   "codemirror_mode": {
    "name": "ipython",
    "version": 3
   },
   "file_extension": ".py",
   "mimetype": "text/x-python",
   "name": "python",
   "nbconvert_exporter": "python",
   "pygments_lexer": "ipython3",
   "version": "3.7.0"
  }
 },
 "nbformat": 4,
 "nbformat_minor": 5
}
